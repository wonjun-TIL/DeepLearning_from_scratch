{
 "cells": [
  {
   "cell_type": "code",
   "execution_count": 2,
   "metadata": {},
   "outputs": [],
   "source": [
    "import numpy as np"
   ]
  },
  {
   "cell_type": "code",
   "execution_count": 5,
   "metadata": {},
   "outputs": [],
   "source": [
    "def sigmoid(x):\n",
    "    return 1 / (1 + np.exp(-x))"
   ]
  },
  {
   "cell_type": "code",
   "execution_count": 3,
   "metadata": {},
   "outputs": [
    {
     "name": "stdout",
     "output_type": "stream",
     "text": [
      "(2, 3)\n",
      "(2,)\n",
      "(3,)\n"
     ]
    }
   ],
   "source": [
    "X = np.array([1.0, 0.5]) # 1x2\n",
    "W1 = np.array([[0.1, 0.3, 0.5], [0.2, 0.4, 0.6]]) # 2x3\n",
    "B1 = np.array([0.1, 0.2, 0.3]) # 1x3\n",
    "\n",
    "print(W1.shape) # (2, 3)\n",
    "print(X.shape) # (2,)\n",
    "print(B1.shape) # (3,)\n",
    "\n",
    "A1 = np.dot(X, W1) + B1 # 1x3"
   ]
  },
  {
   "cell_type": "code",
   "execution_count": 6,
   "metadata": {},
   "outputs": [
    {
     "name": "stdout",
     "output_type": "stream",
     "text": [
      "[0.3 0.7 1.1]\n",
      "[0.57444252 0.66818777 0.75026011]\n"
     ]
    }
   ],
   "source": [
    "Z1 = sigmoid(A1) # 1x3\n",
    "\n",
    "print(A1) # [0.3, 0.7, 1.1]\n",
    "print(Z1) # [0.57444252, 0.66818777, 0.75026011]"
   ]
  },
  {
   "cell_type": "code",
   "execution_count": 7,
   "metadata": {},
   "outputs": [
    {
     "name": "stdout",
     "output_type": "stream",
     "text": [
      "(3,)\n",
      "(3, 2)\n",
      "(2,)\n"
     ]
    }
   ],
   "source": [
    "W2 = np.array([[0.1, 0.4], [0.2, 0.5], [0.3, 0.6]]) # 3x2\n",
    "B2 = np.array([0.1, 0.2]) # 1x2\n",
    "\n",
    "print(Z1.shape) # (3,)\n",
    "print(W2.shape) # (3, 2)\n",
    "print(B2.shape) # (2,)\n",
    "\n",
    "A2 = np.dot(Z1, W2) + B2 # 1x2\n",
    "Z2 = sigmoid(A2) # 1x2"
   ]
  },
  {
   "cell_type": "code",
   "execution_count": 8,
   "metadata": {},
   "outputs": [],
   "source": [
    "# 은닉층에서 출력층 과정 구현\n",
    "# 활성화 함수로 항등 함수를 사용\n",
    "\n",
    "def identity_function(x):\n",
    "    return x\n",
    "\n",
    "W3 = np.array([[0.1, 0.3], [0.2, 0.4]]) # 2x2\n",
    "B3 = np.array([0.1, 0.2]) # 1x2\n",
    "\n",
    "A3 = np.dot(Z2, W3) + B3 # 1x2\n",
    "Y = identity_function(A3) # 1x2"
   ]
  },
  {
   "cell_type": "code",
   "execution_count": 9,
   "metadata": {},
   "outputs": [
    {
     "name": "stdout",
     "output_type": "stream",
     "text": [
      "[0.31682708 0.69627909]\n"
     ]
    }
   ],
   "source": [
    "def init_network():\n",
    "    network = {}\n",
    "    network['W1'] = np.array([[0.1, 0.3, 0.5], [0.2, 0.4, 0.6]]) # 2x3\n",
    "    network['b1'] = np.array([0.1, 0.2, 0.3]) # 1x3\n",
    "    network['W2'] = np.array([[0.1, 0.4], [0.2, 0.5], [0.3, 0.6]]) # 3x2\n",
    "    network['b2'] = np.array([0.1, 0.2]) # 1x2\n",
    "    network['W3'] = np.array([[0.1, 0.3], [0.2, 0.4]]) # 2x2\n",
    "    network['b3'] = np.array([0.1, 0.2]) # 1x2\n",
    "\n",
    "    return network\n",
    "\n",
    "def forward(network, x):\n",
    "    W1, W2, W3 = network['W1'], network['W2'], network['W3'] # 2x3, 3x2, 2x2\n",
    "    b1, b2, b3 = network['b1'], network['b2'], network['b3'] # 1x3, 1x2, 1x2\n",
    "\n",
    "    a1 = np.dot(x, W1) + b1 # 1x3\n",
    "    z1 = sigmoid(a1) # 1x3\n",
    "    a2 = np.dot(z1, W2) + b2 # 1x2\n",
    "    z2 = sigmoid(a2) # 1x2\n",
    "    a3 = np.dot(z2, W3) + b3 # 1x2\n",
    "    y = identity_function(a3) # 1x2\n",
    "\n",
    "    return y\n",
    "\n",
    "network = init_network()\n",
    "x = np.array([1.0, 0.5]) # 1x2\n",
    "y = forward(network, x) # 1x2\n",
    "print(y) # [0.31682708, 0.69627909]\n",
    "    \n",
    "\n",
    "\n"
   ]
  },
  {
   "cell_type": "markdown",
   "metadata": {},
   "source": [
    "## 3.5 출력층 설계하기"
   ]
  },
  {
   "cell_type": "markdown",
   "metadata": {},
   "source": [
    "### 3.5.1 항등 함수와 소프트맥스 함수 구현하기"
   ]
  },
  {
   "cell_type": "code",
   "execution_count": null,
   "metadata": {},
   "outputs": [],
   "source": []
  },
  {
   "cell_type": "markdown",
   "metadata": {},
   "source": []
  }
 ],
 "metadata": {
  "kernelspec": {
   "display_name": "Python 3",
   "language": "python",
   "name": "python3"
  },
  "language_info": {
   "codemirror_mode": {
    "name": "ipython",
    "version": 3
   },
   "file_extension": ".py",
   "mimetype": "text/x-python",
   "name": "python",
   "nbconvert_exporter": "python",
   "pygments_lexer": "ipython3",
   "version": "3.11.1"
  },
  "orig_nbformat": 4
 },
 "nbformat": 4,
 "nbformat_minor": 2
}
